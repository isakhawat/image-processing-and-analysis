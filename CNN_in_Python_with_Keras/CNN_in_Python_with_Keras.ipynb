{
  "nbformat": 4,
  "nbformat_minor": 0,
  "metadata": {
    "colab": {
      "name": "CNN in Python with Keras.ipynb",
      "provenance": []
    },
    "kernelspec": {
      "name": "python3",
      "display_name": "Python 3"
    }
  },
  "cells": [
    {
      "cell_type": "markdown",
      "metadata": {
        "id": "y1bRwOvcUttN",
        "colab_type": "text"
      },
      "source": [
        "\n",
        "\n",
        "Step Of Process\n",
        "1. understand the data. \n",
        "2.  preprocess\n",
        "3. construct the neural network model\n",
        "4. adding a dropout layer;\n",
        "5. re-evaluate your new model\n",
        "6. predictions on the test data\n",
        "7.  classification report\n",
        "8.\n"
      ]
    },
    {
      "cell_type": "code",
      "metadata": {
        "id": "twoJb6dFpA9j",
        "colab_type": "code",
        "outputId": "6b8d2960-e37b-4d84-df1c-a8c496bc7d19",
        "colab": {
          "base_uri": "https://localhost:8080/",
          "height": 34
        }
      },
      "source": [
        "try:\n",
        "  # %tensorflow_version only exists in Colab.\n",
        "  # শুধুমাত্র কোলাবে চেষ্টা করবো টেন্সর-ফ্লো ২.০ এর জন্য\n",
        "  %tensorflow_version 2.x\n",
        "except Exception:\n",
        "  pass"
      ],
      "execution_count": 0,
      "outputs": [
        {
          "output_type": "stream",
          "text": [
            "TensorFlow is already loaded. Please restart the runtime to change versions.\n"
          ],
          "name": "stdout"
        }
      ]
    },
    {
      "cell_type": "markdown",
      "metadata": {
        "id": "RabvfWXdZO5t",
        "colab_type": "text"
      },
      "source": [
        "# Data Set (Fashion-MNIST)"
      ]
    },
    {
      "cell_type": "code",
      "metadata": {
        "id": "jC3UrEUWZuPU",
        "colab_type": "code",
        "colab": {}
      },
      "source": [
        "import numpy as np\n",
        "from keras.utils import to_categorical\n",
        "import matplotlib.pyplot as plt\n",
        "%matplotlib inline"
      ],
      "execution_count": 0,
      "outputs": []
    },
    {
      "cell_type": "code",
      "metadata": {
        "id": "afXiCsLzYTDq",
        "colab_type": "code",
        "colab": {}
      },
      "source": [
        ""
      ],
      "execution_count": 0,
      "outputs": []
    },
    {
      "cell_type": "markdown",
      "metadata": {
        "id": "MaAMHyhAaHb7",
        "colab_type": "text"
      },
      "source": [
        "Load the Data in keras dataset\n",
        "\n",
        "**datasets:** download the data from the server and speeds up the process"
      ]
    },
    {
      "cell_type": "code",
      "metadata": {
        "id": "GJ9RpXsiTSzd",
        "colab_type": "code",
        "colab": {}
      },
      "source": [
        "from keras.datasets import fashion_mnist\n",
        "(train_X,train_Y), (test_X,test_Y) = fashion_mnist.load_data()"
      ],
      "execution_count": 0,
      "outputs": []
    },
    {
      "cell_type": "markdown",
      "metadata": {
        "id": "UqFvE07baFKK",
        "colab_type": "text"
      },
      "source": [
        "**Analyze the Data**\n",
        "\n",
        "**60000 x 28 x 28** since there are 60,000 training samples each of 28 x 28 dimension.\n",
        "\n",
        "**10000 x 28 x 28** since there are 60,000 training samples each of 28 x 28 dimension."
      ]
    },
    {
      "cell_type": "code",
      "metadata": {
        "id": "rdLLUVclZzQV",
        "colab_type": "code",
        "outputId": "eab7bbff-b0fc-4fae-bc64-5a3c31a270d6",
        "colab": {
          "base_uri": "https://localhost:8080/",
          "height": 52
        }
      },
      "source": [
        "\n",
        "print('Training data shape : ', train_X.shape, train_Y.shape)\n",
        "\n",
        "print('Testing data shape : ', test_X.shape, test_Y.shape)"
      ],
      "execution_count": 0,
      "outputs": [
        {
          "output_type": "stream",
          "text": [
            "Training data shape :  (60000, 28, 28) (60000,)\n",
            "Testing data shape :  (10000, 28, 28) (10000,)\n"
          ],
          "name": "stdout"
        }
      ]
    },
    {
      "cell_type": "markdown",
      "metadata": {
        "id": "l5u-t1izbR-R",
        "colab_type": "text"
      },
      "source": [
        "**Find the unique numbers from the train labels**"
      ]
    },
    {
      "cell_type": "code",
      "metadata": {
        "id": "ldpqGWTIbLSj",
        "colab_type": "code",
        "outputId": "1c55b151-ed19-4e1f-aece-caff2bec05a8",
        "colab": {
          "base_uri": "https://localhost:8080/",
          "height": 52
        }
      },
      "source": [
        "# Find the unique numbers from the train labels\n",
        "classes = np.unique(train_Y)\n",
        "nClasses = len(classes)\n",
        "print('Total number of outputs : ', nClasses)\n",
        "print('Output classes : ', classes)"
      ],
      "execution_count": 0,
      "outputs": [
        {
          "output_type": "stream",
          "text": [
            "Total number of outputs :  10\n",
            "Output classes :  [0 1 2 3 4 5 6 7 8 9]\n"
          ],
          "name": "stdout"
        }
      ]
    },
    {
      "cell_type": "markdown",
      "metadata": {
        "id": "-xR7WxNmeDx0",
        "colab_type": "text"
      },
      "source": [
        "\n",
        "The **output** of above two plots looks like an **ankle boot**.\n",
        "\n",
        "when (0,0) class is assigned a **class label of 9**."
      ]
    },
    {
      "cell_type": "code",
      "metadata": {
        "id": "IT658yyycs_Q",
        "colab_type": "code",
        "outputId": "b931ecac-d40c-4d5a-c40b-e11941e5679f",
        "colab": {
          "base_uri": "https://localhost:8080/",
          "height": 208
        }
      },
      "source": [
        "plt.figure(figsize=[5,5])\n",
        "\n",
        "# Display the first image in training data\n",
        "plt.subplot(121)\n",
        "plt.imshow(train_X[3,:,:], cmap='gray')\n",
        "#plt.imshow(train_X[0,:,:], cmap='gray')\n",
        "plt.title(\"Ground Truth : {}\".format(train_Y[0]))\n",
        "\n",
        "# Display the first image in testing data\n",
        "plt.subplot(122)\n",
        "plt.imshow(test_X[3,:,:], cmap='gray')\n",
        "#plt.imshow(test_X[0,:,:], cmap='gray')\n",
        "plt.title(\"Ground Truth : {}\".format(test_Y[0]))"
      ],
      "execution_count": 0,
      "outputs": [
        {
          "output_type": "execute_result",
          "data": {
            "text/plain": [
              "Text(0.5, 1.0, 'Ground Truth : 9')"
            ]
          },
          "metadata": {
            "tags": []
          },
          "execution_count": 57
        },
        {
          "output_type": "display_data",
          "data": {
            "image/png": "[encoded data removed]",
            "text/plain": [
              "<Figure size 360x360 with 2 Axes>"
            ]
          },
          "metadata": {
            "tags": []
          }
        }
      ]
    },
    {
      "cell_type": "markdown",
      "metadata": {
        "id": "WwbQSYeje-uR",
        "colab_type": "text"
      },
      "source": [
        "# Data Preprocessing\n",
        "\n",
        "1. the images are grayscale images have pixel values that range from 0 to 255. \n",
        "\n",
        "2. As a first step, convert each 28 x 28 image of the train and test set into a matrix of size 28 x 28 x 1"
      ]
    },
    {
      "cell_type": "code",
      "metadata": {
        "id": "OZoY6MZnbLhu",
        "colab_type": "code",
        "outputId": "a6ddcd8c-2b6e-48e5-c8f6-1b472bfc1349",
        "colab": {
          "base_uri": "https://localhost:8080/",
          "height": 34
        }
      },
      "source": [
        "train_X = train_X.reshape(-1, 28,28, 1)\n",
        "test_X = test_X.reshape(-1, 28,28, 1)\n",
        "train_X.shape, test_X.shape"
      ],
      "execution_count": 0,
      "outputs": [
        {
          "output_type": "execute_result",
          "data": {
            "text/plain": [
              "((60000, 28, 28, 1), (10000, 28, 28, 1))"
            ]
          },
          "metadata": {
            "tags": []
          },
          "execution_count": 58
        }
      ]
    },
    {
      "cell_type": "markdown",
      "metadata": {
        "id": "6faBR_7DgQt4",
        "colab_type": "text"
      },
      "source": [
        "1. the data right now is in an int8 format.\n",
        "\n",
        "2. **before you feed** it into the network you need to **convert** its type to **float32**, and you also have to **rescale** the pixel values in range 0 - 1 inclusive."
      ]
    },
    {
      "cell_type": "code",
      "metadata": {
        "id": "X7AQcQ8bbLpr",
        "colab_type": "code",
        "colab": {}
      },
      "source": [
        "train_X = train_X.astype('float32')\n",
        "test_X = test_X.astype('float32')\n",
        "train_X = train_X / 255.\n",
        "test_X = test_X / 255."
      ],
      "execution_count": 0,
      "outputs": []
    },
    {
      "cell_type": "markdown",
      "metadata": {
        "id": "zCbWHqcph02a",
        "colab_type": "text"
      },
      "source": [
        " **train_Y_one_hot**, which will display a matrix of size 60000 x 10 in which each row depicts one-hot encoding of an image."
      ]
    },
    {
      "cell_type": "code",
      "metadata": {
        "id": "iGZ_MUHwbLmJ",
        "colab_type": "code",
        "outputId": "d84f964f-3c0a-4765-9af7-8332f37bc04e",
        "colab": {
          "base_uri": "https://localhost:8080/",
          "height": 52
        }
      },
      "source": [
        "# Change the labels from categorical to one-hot encoding\n",
        "train_Y_one_hot = to_categorical(train_Y)\n",
        "test_Y_one_hot = to_categorical(test_Y)\n",
        "\n",
        "# Display the change for category label using one-hot encoding\n",
        "print('Original label:', train_Y[9])\n",
        "print('After conversion to one-hot:', train_Y_one_hot[9])"
      ],
      "execution_count": 0,
      "outputs": [
        {
          "output_type": "stream",
          "text": [
            "Original label: 5\n",
            "After conversion to one-hot: [0. 0. 0. 0. 0. 1. 0. 0. 0. 0.]\n"
          ],
          "name": "stdout"
        }
      ]
    },
    {
      "cell_type": "code",
      "metadata": {
        "id": "kVlfuQ6niUsU",
        "colab_type": "code",
        "colab": {}
      },
      "source": [
        "from sklearn.model_selection import train_test_split\n",
        "train_X,valid_X,train_label,valid_label = train_test_split(train_X, train_Y_one_hot, test_size=0.2, random_state=13)"
      ],
      "execution_count": 0,
      "outputs": []
    },
    {
      "cell_type": "markdown",
      "metadata": {
        "id": "S5SaUFydiZ7F",
        "colab_type": "text"
      },
      "source": [
        "**For one last time let's check the shape of training and validation set.**\n"
      ]
    },
    {
      "cell_type": "code",
      "metadata": {
        "id": "-2KMjYjXiaK5",
        "colab_type": "code",
        "outputId": "9c9e1348-ba01-404d-8415-8fe6c8b7fe2e",
        "colab": {
          "base_uri": "https://localhost:8080/",
          "height": 34
        }
      },
      "source": [
        "train_X.shape,valid_X.shape,train_label.shape,valid_label.shape"
      ],
      "execution_count": 0,
      "outputs": [
        {
          "output_type": "execute_result",
          "data": {
            "text/plain": [
              "((48000, 28, 28, 1), (12000, 28, 28, 1), (48000, 10), (12000, 10))"
            ]
          },
          "metadata": {
            "tags": []
          },
          "execution_count": 62
        }
      ]
    },
    {
      "cell_type": "markdown",
      "metadata": {
        "id": "8Zbt0FzVjC-3",
        "colab_type": "text"
      },
      "source": [
        "###The Network\n",
        "The images are of **size 28 x 28.** You **convert the image matrix to an array,** rescale it between 0 and 1, reshape it so that it's of size 28 x 28 x 1, and feed this as an input to the network.\n",
        "\n",
        "You'll use **three convolutional layers:**\n",
        "\n",
        "1.The first layer will have **32-3 x 3**filters,\n",
        "\n",
        "2.The second layer will have **64-3 x 3** filters and\n",
        "\n",
        "3.The third layer will have **128-3 x 3** filters."
      ]
    },
    {
      "cell_type": "markdown",
      "metadata": {
        "id": "m6PJZIDFjeND",
        "colab_type": "text"
      },
      "source": [
        "# Model the Data\n",
        "First, let's import all the necessary modules required to train the model."
      ]
    },
    {
      "cell_type": "code",
      "metadata": {
        "id": "QitS4Ptejnz9",
        "colab_type": "code",
        "colab": {}
      },
      "source": [
        "import keras\n",
        "from keras.models import Sequential,Input,Model\n",
        "from keras.layers import Dense, Dropout, Flatten\n",
        "from keras.layers import Conv2D, MaxPooling2D\n",
        "from keras.layers.normalization import BatchNormalization\n",
        "from keras.layers.advanced_activations import LeakyReLU"
      ],
      "execution_count": 0,
      "outputs": []
    },
    {
      "cell_type": "markdown",
      "metadata": {
        "id": "uPGxRjkLjz4o",
        "colab_type": "text"
      },
      "source": [
        "batch size of 64 using a higher batch size of 128 or 256 is also preferable it all depends on the memory. "
      ]
    },
    {
      "cell_type": "code",
      "metadata": {
        "id": "1d8HMOiLj0FZ",
        "colab_type": "code",
        "colab": {}
      },
      "source": [
        "batch_size = 64\n",
        "epochs = 20\n",
        "num_classes = 10"
      ],
      "execution_count": 0,
      "outputs": []
    },
    {
      "cell_type": "markdown",
      "metadata": {
        "id": "YvrDgz6Jj9bV",
        "colab_type": "text"
      },
      "source": [
        "# Neural Network Architecture"
      ]
    },
    {
      "cell_type": "markdown",
      "metadata": {
        "id": "-rkIIR-akAYT",
        "colab_type": "text"
      },
      "source": [
        "In Keras, you can just stack up layers by adding the desired layer one by one. That's exactly what you'll do here: you'll first add a first convolutional layer with Conv2D(). Note that you use this function because you're working with images! Next, you add the Leaky ReLU activation function which helps the network learn non-linear decision boundaries. Since you have ten different classes, you'll need a non-linear decision boundary that could separate these ten classes which are not linearly separable.\n",
        "\n",
        "More specifically, you add Leaky ReLUs because they attempt to fix the problem of dying Rectified Linear Units (ReLUs). The ReLU activation function is used a lot in neural network architectures and more specifically in convolutional networks, where it has proven to be more effective than the widely used logistic sigmoid function. As of 2017, this activation function is the most popular one for deep neural networks. The ReLU function allows the activation to be thresholded at zero. However, during the training, ReLU units can \"die\". This can happen when a large gradient flows through a ReLU neuron: it can cause the weights to update in such a way that the neuron will never activate on any data point again. If this happens, then the gradient flowing through the unit will forever be zero from that point on. Leaky ReLUs attempt to solve this: the function will not be zero but will instead have a small negative slope.\n",
        "\n",
        "Next, you'll add the max-pooling layer with MaxPooling2D() and so on. The last layer is a Dense layer that has a softmax activation function with 10 units, which is needed for this multi-class classification problem."
      ]
    },
    {
      "cell_type": "code",
      "metadata": {
        "id": "9U8noGn4kRS_",
        "colab_type": "code",
        "colab": {}
      },
      "source": [
        "fashion_model = Sequential()\n",
        "fashion_model.add(Conv2D(32, kernel_size=(3, 3),activation='linear',input_shape=(28,28,1),padding='same'))\n",
        "fashion_model.add(LeakyReLU(alpha=0.1))\n",
        "fashion_model.add(MaxPooling2D((2, 2),padding='same'))\n",
        "fashion_model.add(Conv2D(64, (3, 3), activation='linear',padding='same'))\n",
        "fashion_model.add(LeakyReLU(alpha=0.1))\n",
        "fashion_model.add(MaxPooling2D(pool_size=(2, 2),padding='same'))\n",
        "fashion_model.add(Conv2D(128, (3, 3), activation='linear',padding='same'))\n",
        "fashion_model.add(LeakyReLU(alpha=0.1))                  \n",
        "fashion_model.add(MaxPooling2D(pool_size=(2, 2),padding='same'))\n",
        "fashion_model.add(Flatten())\n",
        "fashion_model.add(Dense(128, activation='linear'))\n",
        "fashion_model.add(LeakyReLU(alpha=0.1))                  \n",
        "fashion_model.add(Dense(num_classes, activation='softmax'))"
      ],
      "execution_count": 0,
      "outputs": []
    },
    {
      "cell_type": "markdown",
      "metadata": {
        "id": "-pyCFbhKkgpn",
        "colab_type": "text"
      },
      "source": [
        "# Compile the Model\n",
        "\n",
        "**Adam optimizer:** https://machinelearningmastery.com/adam-optimization-algorithm-for-deep-learning/"
      ]
    },
    {
      "cell_type": "markdown",
      "metadata": {
        "id": "3GkAVBOYk7mi",
        "colab_type": "text"
      },
      "source": [
        "After the model is created, you compile it using the Adam optimizer, one of the most popular optimization algorithms. You can read more about this optimizer here. Additionally, you specify the loss type which is categorical cross entropy which is used for multi-class classification, you can also use binary cross-entropy as the loss function. Lastly, you specify the metrics as accuracy which you want to analyze while the model is training."
      ]
    },
    {
      "cell_type": "code",
      "metadata": {
        "id": "zGDiPWZLkiqf",
        "colab_type": "code",
        "colab": {}
      },
      "source": [
        "fashion_model.compile(loss=keras.losses.categorical_crossentropy, optimizer=keras.optimizers.Adam(),metrics=['accuracy'])"
      ],
      "execution_count": 0,
      "outputs": []
    },
    {
      "cell_type": "markdown",
      "metadata": {
        "id": "BIkv_I9Lpa8l",
        "colab_type": "text"
      },
      "source": [
        "**visualize the layers**"
      ]
    },
    {
      "cell_type": "code",
      "metadata": {
        "id": "XpK0UFc9paAo",
        "colab_type": "code",
        "outputId": "2e83cdcb-2fa9-4f2c-c692-6f1851361fb7",
        "colab": {
          "base_uri": "https://localhost:8080/",
          "height": 621
        }
      },
      "source": [
        "fashion_model.summary()"
      ],
      "execution_count": 0,
      "outputs": [
        {
          "output_type": "stream",
          "text": [
            "Model: \"sequential_2\"\n",
            "_________________________________________________________________\n",
            "Layer (type)                 Output Shape              Param #   \n",
            "=================================================================\n",
            "conv2d_4 (Conv2D)            (None, 28, 28, 32)        320       \n",
            "_________________________________________________________________\n",
            "leaky_re_lu_5 (LeakyReLU)    (None, 28, 28, 32)        0         \n",
            "_________________________________________________________________\n",
            "max_pooling2d_4 (MaxPooling2 (None, 14, 14, 32)        0         \n",
            "_________________________________________________________________\n",
            "conv2d_5 (Conv2D)            (None, 14, 14, 64)        18496     \n",
            "_________________________________________________________________\n",
            "leaky_re_lu_6 (LeakyReLU)    (None, 14, 14, 64)        0         \n",
            "_________________________________________________________________\n",
            "max_pooling2d_5 (MaxPooling2 (None, 7, 7, 64)          0         \n",
            "_________________________________________________________________\n",
            "conv2d_6 (Conv2D)            (None, 7, 7, 128)         73856     \n",
            "_________________________________________________________________\n",
            "leaky_re_lu_7 (LeakyReLU)    (None, 7, 7, 128)         0         \n",
            "_________________________________________________________________\n",
            "max_pooling2d_6 (MaxPooling2 (None, 4, 4, 128)         0         \n",
            "_________________________________________________________________\n",
            "flatten_2 (Flatten)          (None, 2048)              0         \n",
            "_________________________________________________________________\n",
            "dense_3 (Dense)              (None, 128)               262272    \n",
            "_________________________________________________________________\n",
            "leaky_re_lu_8 (LeakyReLU)    (None, 128)               0         \n",
            "_________________________________________________________________\n",
            "dense_4 (Dense)              (None, 10)                1290      \n",
            "=================================================================\n",
            "Total params: 356,234\n",
            "Trainable params: 356,234\n",
            "Non-trainable params: 0\n",
            "_________________________________________________________________\n"
          ],
          "name": "stdout"
        }
      ]
    },
    {
      "cell_type": "markdown",
      "metadata": {
        "id": "9EpZAYmsqUvd",
        "colab_type": "text"
      },
      "source": [
        ""
      ]
    },
    {
      "cell_type": "markdown",
      "metadata": {
        "id": "K0zgBrYEprAm",
        "colab_type": "text"
      },
      "source": [
        "# Train the Model\n",
        "\n",
        "It's finally time to train the model with Keras' **fit()** function! The model trains for 20 epochs. The **fit()** function will return a **history** object; By storying the result of this function in **fashion_train**, you can use it later to plot the accuracy and loss function plots between training and validation which will help you to analyze your model's performance visually."
      ]
    },
    {
      "cell_type": "code",
      "metadata": {
        "id": "RGJ9egUnqCmv",
        "colab_type": "code",
        "outputId": "44fd7b8b-8c36-498e-8ea6-eed1a2590c5f",
        "colab": {
          "base_uri": "https://localhost:8080/",
          "height": 1000
        }
      },
      "source": [
        "fashion_train = fashion_model.fit(train_X, train_label, batch_size=batch_size,epochs=epochs,verbose=1,validation_data=(valid_X, valid_label))"
      ],
      "execution_count": 0,
      "outputs": [
        {
          "output_type": "stream",
          "text": [
            "WARNING:tensorflow:From /usr/local/lib/python3.6/dist-packages/tensorflow_core/python/ops/math_grad.py:1424: where (from tensorflow.python.ops.array_ops) is deprecated and will be removed in a future version.\n",
            "Instructions for updating:\n",
            "Use tf.where in 2.0, which has the same broadcast rule as np.where\n",
            "WARNING:tensorflow:From /usr/local/lib/python3.6/dist-packages/keras/backend/tensorflow_backend.py:1033: The name tf.assign_add is deprecated. Please use tf.compat.v1.assign_add instead.\n",
            "\n",
            "WARNING:tensorflow:From /usr/local/lib/python3.6/dist-packages/keras/backend/tensorflow_backend.py:1020: The name tf.assign is deprecated. Please use tf.compat.v1.assign instead.\n",
            "\n",
            "WARNING:tensorflow:From /usr/local/lib/python3.6/dist-packages/keras/backend/tensorflow_backend.py:3005: The name tf.Session is deprecated. Please use tf.compat.v1.Session instead.\n",
            "\n",
            "Train on 48000 samples, validate on 12000 samples\n",
            "Epoch 1/20\n",
            "WARNING:tensorflow:From /usr/local/lib/python3.6/dist-packages/keras/backend/tensorflow_backend.py:190: The name tf.get_default_session is deprecated. Please use tf.compat.v1.get_default_session instead.\n",
            "\n",
            "WARNING:tensorflow:From /usr/local/lib/python3.6/dist-packages/keras/backend/tensorflow_backend.py:197: The name tf.ConfigProto is deprecated. Please use tf.compat.v1.ConfigProto instead.\n",
            "\n",
            "WARNING:tensorflow:From /usr/local/lib/python3.6/dist-packages/keras/backend/tensorflow_backend.py:207: The name tf.global_variables is deprecated. Please use tf.compat.v1.global_variables instead.\n",
            "\n",
            "WARNING:tensorflow:From /usr/local/lib/python3.6/dist-packages/keras/backend/tensorflow_backend.py:216: The name tf.is_variable_initialized is deprecated. Please use tf.compat.v1.is_variable_initialized instead.\n",
            "\n",
            "WARNING:tensorflow:From /usr/local/lib/python3.6/dist-packages/keras/backend/tensorflow_backend.py:223: The name tf.variables_initializer is deprecated. Please use tf.compat.v1.variables_initializer instead.\n",
            "\n",
            "48000/48000 [==============================] - 80s 2ms/step - loss: 0.4641 - acc: 0.8314 - val_loss: 0.3162 - val_acc: 0.8831\n",
            "Epoch 2/20\n",
            "48000/48000 [==============================] - 80s 2ms/step - loss: 0.2855 - acc: 0.8960 - val_loss: 0.2685 - val_acc: 0.9033\n",
            "Epoch 3/20\n",
            "48000/48000 [==============================] - 79s 2ms/step - loss: 0.2389 - acc: 0.9122 - val_loss: 0.2615 - val_acc: 0.9076\n",
            "Epoch 4/20\n",
            "48000/48000 [==============================] - 79s 2ms/step - loss: 0.2063 - acc: 0.9228 - val_loss: 0.2337 - val_acc: 0.9164\n",
            "Epoch 5/20\n",
            "48000/48000 [==============================] - 79s 2ms/step - loss: 0.1810 - acc: 0.9329 - val_loss: 0.2207 - val_acc: 0.9223\n",
            "Epoch 6/20\n",
            "48000/48000 [==============================] - 80s 2ms/step - loss: 0.1578 - acc: 0.9421 - val_loss: 0.2253 - val_acc: 0.9193\n",
            "Epoch 7/20\n",
            "48000/48000 [==============================] - 80s 2ms/step - loss: 0.1391 - acc: 0.9474 - val_loss: 0.2250 - val_acc: 0.9234\n",
            "Epoch 8/20\n",
            "48000/48000 [==============================] - 80s 2ms/step - loss: 0.1200 - acc: 0.9542 - val_loss: 0.2267 - val_acc: 0.9231\n",
            "Epoch 9/20\n",
            "48000/48000 [==============================] - 80s 2ms/step - loss: 0.1007 - acc: 0.9629 - val_loss: 0.2578 - val_acc: 0.9234\n",
            "Epoch 10/20\n",
            "48000/48000 [==============================] - 80s 2ms/step - loss: 0.0847 - acc: 0.9683 - val_loss: 0.2676 - val_acc: 0.9223\n",
            "Epoch 11/20\n",
            "48000/48000 [==============================] - 80s 2ms/step - loss: 0.0718 - acc: 0.9721 - val_loss: 0.2806 - val_acc: 0.9205\n",
            "Epoch 12/20\n",
            "48000/48000 [==============================] - 80s 2ms/step - loss: 0.0581 - acc: 0.9781 - val_loss: 0.2969 - val_acc: 0.9233\n",
            "Epoch 13/20\n",
            "48000/48000 [==============================] - 80s 2ms/step - loss: 0.0544 - acc: 0.9794 - val_loss: 0.3306 - val_acc: 0.9185\n",
            "Epoch 14/20\n",
            "48000/48000 [==============================] - 80s 2ms/step - loss: 0.0470 - acc: 0.9828 - val_loss: 0.3266 - val_acc: 0.9253\n",
            "Epoch 15/20\n",
            "48000/48000 [==============================] - 80s 2ms/step - loss: 0.0430 - acc: 0.9842 - val_loss: 0.3689 - val_acc: 0.9229\n",
            "Epoch 16/20\n",
            "48000/48000 [==============================] - 80s 2ms/step - loss: 0.0398 - acc: 0.9854 - val_loss: 0.3566 - val_acc: 0.9212\n",
            "Epoch 17/20\n",
            "48000/48000 [==============================] - 80s 2ms/step - loss: 0.0356 - acc: 0.9864 - val_loss: 0.4032 - val_acc: 0.9158\n",
            "Epoch 18/20\n",
            "48000/48000 [==============================] - 80s 2ms/step - loss: 0.0298 - acc: 0.9890 - val_loss: 0.4186 - val_acc: 0.9223\n",
            "Epoch 19/20\n",
            "48000/48000 [==============================] - 80s 2ms/step - loss: 0.0357 - acc: 0.9874 - val_loss: 0.3960 - val_acc: 0.9223\n",
            "Epoch 20/20\n",
            "48000/48000 [==============================] - 81s 2ms/step - loss: 0.0286 - acc: 0.9895 - val_loss: 0.4596 - val_acc: 0.9205\n"
          ],
          "name": "stdout"
        }
      ]
    },
    {
      "cell_type": "markdown",
      "metadata": {
        "id": "W8HYNiY8qV5W",
        "colab_type": "text"
      },
      "source": [
        "after 20 epochs the training **accuracy is 99%** and the training loss is quite  low its called **overfitting**.\n",
        "\n",
        "**overfitting :** validation **loss is 0.4396** and the validation **accuracy is 92%**.\n",
        "\n",
        "**Overfitting** training data very well but is not guaranteed to work on unseen data, and that is why there is a **difference in the training and validation accuracy.**\n",
        "\n",
        "**adding a Dropout layer to slove this problem**"
      ]
    },
    {
      "cell_type": "markdown",
      "metadata": {
        "id": "DAlba2i4sF5y",
        "colab_type": "text"
      },
      "source": [
        "# Model Evaluation on the Test Set"
      ]
    },
    {
      "cell_type": "code",
      "metadata": {
        "id": "yGrN3j_YsLfZ",
        "colab_type": "code",
        "colab": {}
      },
      "source": [
        "test_eval = fashion_model.evaluate(test_X, test_Y_one_hot, verbose=0)"
      ],
      "execution_count": 0,
      "outputs": []
    },
    {
      "cell_type": "code",
      "metadata": {
        "id": "BznslUJ4sL0g",
        "colab_type": "code",
        "outputId": "15abc1ec-c7fe-4d20-9b87-d79d3b4bd89a",
        "colab": {
          "base_uri": "https://localhost:8080/",
          "height": 52
        }
      },
      "source": [
        "print('Test loss:', test_eval[0])\n",
        "print('Test accuracy:', test_eval[1])"
      ],
      "execution_count": 0,
      "outputs": [
        {
          "output_type": "stream",
          "text": [
            "Test loss: 0.4640991136691533\n",
            "Test accuracy: 0.9186\n"
          ],
          "name": "stdout"
        }
      ]
    },
    {
      "cell_type": "markdown",
      "metadata": {
        "id": "4ezwBhnzsxOe",
        "colab_type": "text"
      },
      "source": [
        "Let's put your model evaluation into perspective and plot the accuracy and loss plots between training and validation data:"
      ]
    },
    {
      "cell_type": "code",
      "metadata": {
        "id": "oykkHvO1sxdq",
        "colab_type": "code",
        "outputId": "e6133bbd-baa8-4972-e6f4-f38a9ea08530",
        "colab": {
          "base_uri": "https://localhost:8080/",
          "height": 544
        }
      },
      "source": [
        "accuracy = fashion_train.history['acc']\n",
        "val_accuracy = fashion_train.history['val_acc']\n",
        "loss = fashion_train.history['loss']\n",
        "val_loss = fashion_train.history['val_loss']\n",
        "epochs = range(len(accuracy))\n",
        "plt.plot(epochs, accuracy, 'bo', label='Training accuracy')\n",
        "plt.plot(epochs, val_accuracy, 'b', label='Validation accuracy')\n",
        "plt.title('Training and validation accuracy')\n",
        "plt.legend()\n",
        "plt.figure()\n",
        "plt.plot(epochs, loss, 'bo', label='Training loss')\n",
        "plt.plot(epochs, val_loss, 'b', label='Validation loss')\n",
        "plt.title('Training and validation loss')\n",
        "plt.legend()\n",
        "plt.show()"
      ],
      "execution_count": 0,
      "outputs": [
        {
          "output_type": "display_data",
          "data": {
            "image/png": "[encoded data removed]",
            "text/plain": [
              "<Figure size 432x288 with 1 Axes>"
            ]
          },
          "metadata": {
            "tags": []
          }
        },
        {
          "output_type": "display_data",
          "data": {
            "image/png": "[encoded data removed]",
            "text/plain": [
              "<Figure size 432x288 with 1 Axes>"
            ]
          },
          "metadata": {
            "tags": []
          }
        }
      ]
    },
    {
      "cell_type": "markdown",
      "metadata": {
        "id": "2Doc_ngStg7X",
        "colab_type": "text"
      },
      "source": [
        "# Adding Dropout into the Network\n",
        "\n",
        "You can add a dropout layer to overcome the problem of overfitting to some extent. Dropout randomly turns off a fraction of neurons during the training process, reducing the dependency on the training set by some amount. How many fractions of neurons you want to turn off is decided by a hyperparameter, which can be tuned accordingly. This way, turning off some neurons will not allow the network to memorize the training data since not all the neurons will be active at the same time and the inactive neurons will not be able to learn anything.\n",
        "\n",
        "So let's create, compile and train the network again but this time with dropout. And run it for 20 epochs with a batch size of 64."
      ]
    },
    {
      "cell_type": "code",
      "metadata": {
        "id": "Le50lNS4tpwH",
        "colab_type": "code",
        "colab": {}
      },
      "source": [
        "batch_size = 64\n",
        "epochs = 20\n",
        "num_classes = 10"
      ],
      "execution_count": 0,
      "outputs": []
    },
    {
      "cell_type": "code",
      "metadata": {
        "id": "52q92Gwatst7",
        "colab_type": "code",
        "outputId": "acb83363-c1e4-42c6-c667-66b4453aba29",
        "colab": {
          "base_uri": "https://localhost:8080/",
          "height": 125
        }
      },
      "source": [
        "fashion_model = Sequential()\n",
        "fashion_model.add(Conv2D(32, kernel_size=(3, 3),activation='linear',padding='same',input_shape=(28,28,1)))\n",
        "fashion_model.add(LeakyReLU(alpha=0.1))\n",
        "fashion_model.add(MaxPooling2D((2, 2),padding='same'))\n",
        "fashion_model.add(Dropout(0.25))\n",
        "fashion_model.add(Conv2D(64, (3, 3), activation='linear',padding='same'))\n",
        "fashion_model.add(LeakyReLU(alpha=0.1))\n",
        "fashion_model.add(MaxPooling2D(pool_size=(2, 2),padding='same'))\n",
        "fashion_model.add(Dropout(0.25))\n",
        "fashion_model.add(Conv2D(128, (3, 3), activation='linear',padding='same'))\n",
        "fashion_model.add(LeakyReLU(alpha=0.1))                  \n",
        "fashion_model.add(MaxPooling2D(pool_size=(2, 2),padding='same'))\n",
        "fashion_model.add(Dropout(0.4))\n",
        "fashion_model.add(Flatten())\n",
        "fashion_model.add(Dense(128, activation='linear'))\n",
        "fashion_model.add(LeakyReLU(alpha=0.1))           \n",
        "fashion_model.add(Dropout(0.3))\n",
        "fashion_model.add(Dense(num_classes, activation='softmax'))"
      ],
      "execution_count": 0,
      "outputs": [
        {
          "output_type": "stream",
          "text": [
            "WARNING:tensorflow:From /usr/local/lib/python3.6/dist-packages/keras/backend/tensorflow_backend.py:148: The name tf.placeholder_with_default is deprecated. Please use tf.compat.v1.placeholder_with_default instead.\n",
            "\n",
            "WARNING:tensorflow:From /usr/local/lib/python3.6/dist-packages/keras/backend/tensorflow_backend.py:3733: calling dropout (from tensorflow.python.ops.nn_ops) with keep_prob is deprecated and will be removed in a future version.\n",
            "Instructions for updating:\n",
            "Please use `rate` instead of `keep_prob`. Rate should be set to `rate = 1 - keep_prob`.\n"
          ],
          "name": "stdout"
        }
      ]
    },
    {
      "cell_type": "code",
      "metadata": {
        "id": "1O1GV7uet0_6",
        "colab_type": "code",
        "outputId": "91ceeab8-a70d-405e-e0a8-9c52ba1ece63",
        "colab": {
          "base_uri": "https://localhost:8080/",
          "height": 763
        }
      },
      "source": [
        "fashion_model.summary()"
      ],
      "execution_count": 0,
      "outputs": [
        {
          "output_type": "stream",
          "text": [
            "Model: \"sequential_3\"\n",
            "_________________________________________________________________\n",
            "Layer (type)                 Output Shape              Param #   \n",
            "=================================================================\n",
            "conv2d_7 (Conv2D)            (None, 28, 28, 32)        320       \n",
            "_________________________________________________________________\n",
            "leaky_re_lu_9 (LeakyReLU)    (None, 28, 28, 32)        0         \n",
            "_________________________________________________________________\n",
            "max_pooling2d_7 (MaxPooling2 (None, 14, 14, 32)        0         \n",
            "_________________________________________________________________\n",
            "dropout_1 (Dropout)          (None, 14, 14, 32)        0         \n",
            "_________________________________________________________________\n",
            "conv2d_8 (Conv2D)            (None, 14, 14, 64)        18496     \n",
            "_________________________________________________________________\n",
            "leaky_re_lu_10 (LeakyReLU)   (None, 14, 14, 64)        0         \n",
            "_________________________________________________________________\n",
            "max_pooling2d_8 (MaxPooling2 (None, 7, 7, 64)          0         \n",
            "_________________________________________________________________\n",
            "dropout_2 (Dropout)          (None, 7, 7, 64)          0         \n",
            "_________________________________________________________________\n",
            "conv2d_9 (Conv2D)            (None, 7, 7, 128)         73856     \n",
            "_________________________________________________________________\n",
            "leaky_re_lu_11 (LeakyReLU)   (None, 7, 7, 128)         0         \n",
            "_________________________________________________________________\n",
            "max_pooling2d_9 (MaxPooling2 (None, 4, 4, 128)         0         \n",
            "_________________________________________________________________\n",
            "dropout_3 (Dropout)          (None, 4, 4, 128)         0         \n",
            "_________________________________________________________________\n",
            "flatten_3 (Flatten)          (None, 2048)              0         \n",
            "_________________________________________________________________\n",
            "dense_5 (Dense)              (None, 128)               262272    \n",
            "_________________________________________________________________\n",
            "leaky_re_lu_12 (LeakyReLU)   (None, 128)               0         \n",
            "_________________________________________________________________\n",
            "dropout_4 (Dropout)          (None, 128)               0         \n",
            "_________________________________________________________________\n",
            "dense_6 (Dense)              (None, 10)                1290      \n",
            "=================================================================\n",
            "Total params: 356,234\n",
            "Trainable params: 356,234\n",
            "Non-trainable params: 0\n",
            "_________________________________________________________________\n"
          ],
          "name": "stdout"
        }
      ]
    },
    {
      "cell_type": "code",
      "metadata": {
        "id": "HDPVhVe5t1I6",
        "colab_type": "code",
        "colab": {}
      },
      "source": [
        "fashion_model.compile(loss=keras.losses.categorical_crossentropy, optimizer=keras.optimizers.Adam(),metrics=['accuracy'])"
      ],
      "execution_count": 0,
      "outputs": []
    },
    {
      "cell_type": "code",
      "metadata": {
        "id": "jsWFdyNct7fh",
        "colab_type": "code",
        "outputId": "ddce9329-1c3f-4cf7-85c1-25b359649099",
        "colab": {
          "base_uri": "https://localhost:8080/",
          "height": 745
        }
      },
      "source": [
        "fashion_train_dropout = fashion_model.fit(train_X, train_label, batch_size=batch_size,epochs=epochs,verbose=1,validation_data=(valid_X, valid_label))"
      ],
      "execution_count": 0,
      "outputs": [
        {
          "output_type": "stream",
          "text": [
            "Train on 48000 samples, validate on 12000 samples\n",
            "Epoch 1/20\n",
            "48000/48000 [==============================] - 89s 2ms/step - loss: 0.5875 - acc: 0.7807 - val_loss: 0.3555 - val_acc: 0.8668\n",
            "Epoch 2/20\n",
            "48000/48000 [==============================] - 89s 2ms/step - loss: 0.3757 - acc: 0.8625 - val_loss: 0.2993 - val_acc: 0.8873\n",
            "Epoch 3/20\n",
            "48000/48000 [==============================] - 89s 2ms/step - loss: 0.3307 - acc: 0.8783 - val_loss: 0.2849 - val_acc: 0.8917\n",
            "Epoch 4/20\n",
            "48000/48000 [==============================] - 89s 2ms/step - loss: 0.3042 - acc: 0.8872 - val_loss: 0.2564 - val_acc: 0.9040\n",
            "Epoch 5/20\n",
            "48000/48000 [==============================] - 88s 2ms/step - loss: 0.2821 - acc: 0.8963 - val_loss: 0.2536 - val_acc: 0.9052\n",
            "Epoch 6/20\n",
            "48000/48000 [==============================] - 88s 2ms/step - loss: 0.2680 - acc: 0.9010 - val_loss: 0.2532 - val_acc: 0.9051\n",
            "Epoch 7/20\n",
            "48000/48000 [==============================] - 89s 2ms/step - loss: 0.2597 - acc: 0.9031 - val_loss: 0.2301 - val_acc: 0.9147\n",
            "Epoch 8/20\n",
            "48000/48000 [==============================] - 88s 2ms/step - loss: 0.2498 - acc: 0.9058 - val_loss: 0.2309 - val_acc: 0.9125\n",
            "Epoch 9/20\n",
            "48000/48000 [==============================] - 88s 2ms/step - loss: 0.2420 - acc: 0.9090 - val_loss: 0.2246 - val_acc: 0.9153\n",
            "Epoch 10/20\n",
            "48000/48000 [==============================] - 89s 2ms/step - loss: 0.2375 - acc: 0.9112 - val_loss: 0.2260 - val_acc: 0.9152\n",
            "Epoch 11/20\n",
            "48000/48000 [==============================] - 89s 2ms/step - loss: 0.2311 - acc: 0.9139 - val_loss: 0.2211 - val_acc: 0.9207\n",
            "Epoch 12/20\n",
            "48000/48000 [==============================] - 89s 2ms/step - loss: 0.2234 - acc: 0.9159 - val_loss: 0.2267 - val_acc: 0.9183\n",
            "Epoch 13/20\n",
            "48000/48000 [==============================] - 88s 2ms/step - loss: 0.2166 - acc: 0.9173 - val_loss: 0.2247 - val_acc: 0.9170\n",
            "Epoch 14/20\n",
            "48000/48000 [==============================] - 88s 2ms/step - loss: 0.2168 - acc: 0.9175 - val_loss: 0.2200 - val_acc: 0.9182\n",
            "Epoch 15/20\n",
            "48000/48000 [==============================] - 89s 2ms/step - loss: 0.2125 - acc: 0.9201 - val_loss: 0.2132 - val_acc: 0.9225\n",
            "Epoch 16/20\n",
            "48000/48000 [==============================] - 89s 2ms/step - loss: 0.2111 - acc: 0.9207 - val_loss: 0.2130 - val_acc: 0.9231\n",
            "Epoch 17/20\n",
            "48000/48000 [==============================] - 89s 2ms/step - loss: 0.2056 - acc: 0.9221 - val_loss: 0.2106 - val_acc: 0.9233\n",
            "Epoch 18/20\n",
            "48000/48000 [==============================] - 90s 2ms/step - loss: 0.2048 - acc: 0.9221 - val_loss: 0.2086 - val_acc: 0.9239\n",
            "Epoch 19/20\n",
            "48000/48000 [==============================] - 89s 2ms/step - loss: 0.2000 - acc: 0.9254 - val_loss: 0.2186 - val_acc: 0.9203\n",
            "Epoch 20/20\n",
            "48000/48000 [==============================] - 91s 2ms/step - loss: 0.2016 - acc: 0.9240 - val_loss: 0.2103 - val_acc: 0.9253\n"
          ],
          "name": "stdout"
        }
      ]
    },
    {
      "cell_type": "code",
      "metadata": {
        "id": "udpodKbct7lF",
        "colab_type": "code",
        "colab": {}
      },
      "source": [
        "fashion_model.save(\"fashion_model_dropout.h5py\")"
      ],
      "execution_count": 0,
      "outputs": []
    },
    {
      "cell_type": "markdown",
      "metadata": {
        "id": "Vw8RaH_8uE3c",
        "colab_type": "text"
      },
      "source": [
        "### Model Evaluation on the Test Set\n",
        "\n",
        "Finally, let's also evaluate your new model and see how it performs!"
      ]
    },
    {
      "cell_type": "code",
      "metadata": {
        "id": "BpEqb-THt72T",
        "colab_type": "code",
        "outputId": "1328692a-3d0b-4241-a615-0dc7b274d9e0",
        "colab": {
          "base_uri": "https://localhost:8080/",
          "height": 34
        }
      },
      "source": [
        "test_eval = fashion_model.evaluate(test_X, test_Y_one_hot, verbose=1)"
      ],
      "execution_count": 0,
      "outputs": [
        {
          "output_type": "stream",
          "text": [
            "10000/10000 [==============================] - 6s 572us/step\n"
          ],
          "name": "stdout"
        }
      ]
    },
    {
      "cell_type": "code",
      "metadata": {
        "id": "XO8xdhuPuQzT",
        "colab_type": "code",
        "outputId": "932321e7-07a4-450e-c7ef-a0495d606bd7",
        "colab": {
          "base_uri": "https://localhost:8080/",
          "height": 52
        }
      },
      "source": [
        "print('Test loss:', test_eval[0])\n",
        "print('Test accuracy:', test_eval[1])"
      ],
      "execution_count": 0,
      "outputs": [
        {
          "output_type": "stream",
          "text": [
            "Test loss: 0.21930889983177185\n",
            "Test accuracy: 0.9215\n"
          ],
          "name": "stdout"
        }
      ]
    },
    {
      "cell_type": "markdown",
      "metadata": {
        "id": "ep8PrumSubGO",
        "colab_type": "text"
      },
      "source": [
        "Wow! Looks like adding Dropout in our model worked, even though the test accuracy did not improve significantly but the test loss decreased compared to the previous results.\n",
        "\n",
        "Now, let's plot the accuracy and loss plots between training and validation data for the one last time."
      ]
    },
    {
      "cell_type": "code",
      "metadata": {
        "id": "mQ4CStCDucmT",
        "colab_type": "code",
        "outputId": "d8fd4a07-7994-42e8-8454-195bafc40024",
        "colab": {
          "base_uri": "https://localhost:8080/",
          "height": 544
        }
      },
      "source": [
        "accuracy = fashion_train_dropout.history['acc']\n",
        "val_accuracy = fashion_train_dropout.history['val_acc']\n",
        "loss = fashion_train_dropout.history['loss']\n",
        "val_loss = fashion_train_dropout.history['val_loss']\n",
        "epochs = range(len(accuracy))\n",
        "plt.plot(epochs, accuracy, 'bo', label='Training accuracy')\n",
        "plt.plot(epochs, val_accuracy, 'b', label='Validation accuracy')\n",
        "plt.title('Training and validation accuracy')\n",
        "plt.legend()\n",
        "plt.figure()\n",
        "plt.plot(epochs, loss, 'bo', label='Training loss')\n",
        "plt.plot(epochs, val_loss, 'b', label='Validation loss')\n",
        "plt.title('Training and validation loss')\n",
        "plt.legend()\n",
        "plt.show()"
      ],
      "execution_count": 0,
      "outputs": [
        {
          "output_type": "display_data",
          "data": {
            "image/png": "[encoded data removed]",
            "text/plain": [
              "<Figure size 432x288 with 1 Axes>"
            ]
          },
          "metadata": {
            "tags": []
          }
        },
        {
          "output_type": "display_data",
          "data": {
            "image/png": "[encoded data removed]",
            "text/plain": [
              "<Figure size 432x288 with 1 Axes>"
            ]
          },
          "metadata": {
            "tags": []
          }
        }
      ]
    },
    {
      "cell_type": "markdown",
      "metadata": {
        "id": "0gxAcqVtuuYS",
        "colab_type": "text"
      },
      "source": [
        "**Finally**, you can see that the validation loss and validation accuracy both are in sync with the training loss and training accuracy. Even though the validation loss and accuracy line are not linear, but it shows that your model is not overfitting: the validation loss is decreasing and not increasing, and there is not much gap between training and validation accuracy."
      ]
    },
    {
      "cell_type": "markdown",
      "metadata": {
        "id": "CeRhFKsAu0Yt",
        "colab_type": "text"
      },
      "source": [
        "# Predict Labels\n",
        "\n",
        "**np.argmax()** to select the index number which has a higher value in a row.\n",
        "\n",
        "For example, let's assume a prediction for one test image to be **0 1 0 0 0 0 0 0 0 0,** the output for this should be a class label **1**."
      ]
    },
    {
      "cell_type": "code",
      "metadata": {
        "id": "OqtS3dl5uRAq",
        "colab_type": "code",
        "colab": {}
      },
      "source": [
        "predicted_classes = fashion_model.predict(test_X)"
      ],
      "execution_count": 0,
      "outputs": []
    },
    {
      "cell_type": "code",
      "metadata": {
        "id": "oIbeXz2uu6Q1",
        "colab_type": "code",
        "colab": {}
      },
      "source": [
        "predicted_classes = np.argmax(np.round(predicted_classes),axis=1)"
      ],
      "execution_count": 0,
      "outputs": []
    },
    {
      "cell_type": "code",
      "metadata": {
        "id": "E1U5pe46vIuR",
        "colab_type": "code",
        "outputId": "ccc6b6ba-d89d-46c9-cdb8-a581b62e7cf8",
        "colab": {
          "base_uri": "https://localhost:8080/",
          "height": 34
        }
      },
      "source": [
        "predicted_classes.shape, test_Y.shape"
      ],
      "execution_count": 0,
      "outputs": [
        {
          "output_type": "execute_result",
          "data": {
            "text/plain": [
              "((10000,), (10000,))"
            ]
          },
          "metadata": {
            "tags": []
          },
          "execution_count": 85
        }
      ]
    },
    {
      "cell_type": "code",
      "metadata": {
        "id": "Pbfh15VbvLkj",
        "colab_type": "code",
        "outputId": "03386390-6f60-4d3c-fc32-9817b13f0d23",
        "colab": {
          "base_uri": "https://localhost:8080/",
          "height": 314
        }
      },
      "source": [
        "correct = np.where(predicted_classes==test_Y)[0]\n",
        "print( \"Found %d correct labels\" % len(correct))\n",
        "for i, correct in enumerate(correct[:9]):\n",
        "    plt.subplot(3,3,i+1)\n",
        "    plt.imshow(test_X[correct].reshape(28,28), cmap='gray', interpolation='none')\n",
        "    plt.title(\"Predicted {}, Class {}\".format(predicted_classes[correct], test_Y[correct]))\n",
        "    plt.tight_layout()"
      ],
      "execution_count": 0,
      "outputs": [
        {
          "output_type": "stream",
          "text": [
            "Found 9174 correct labels\n"
          ],
          "name": "stdout"
        },
        {
          "output_type": "display_data",
          "data": {
            "image/png": "[encoded data removed]",
            "text/plain": [
              "<Figure size 432x288 with 9 Axes>"
            ]
          },
          "metadata": {
            "tags": []
          }
        }
      ]
    },
    {
      "cell_type": "code",
      "metadata": {
        "id": "iYAnGM3kvTp2",
        "colab_type": "code",
        "outputId": "c2c60d91-d4c8-45e6-b560-dcc67dc2d0a9",
        "colab": {
          "base_uri": "https://localhost:8080/",
          "height": 314
        }
      },
      "source": [
        "incorrect = np.where(predicted_classes!=test_Y)[0]\n",
        "print (\"Found %d incorrect labels\" % len(incorrect))\n",
        "for i, incorrect in enumerate(incorrect[:9]):\n",
        "    plt.subplot(3,3,i+1)\n",
        "    plt.imshow(test_X[incorrect].reshape(28,28), cmap='gray', interpolation='none')\n",
        "    plt.title(\"Predicted {}, Class {}\".format(predicted_classes[incorrect], test_Y[incorrect]))\n",
        "    plt.tight_layout()"
      ],
      "execution_count": 0,
      "outputs": [
        {
          "output_type": "stream",
          "text": [
            "Found 826 incorrect labels\n"
          ],
          "name": "stdout"
        },
        {
          "output_type": "display_data",
          "data": {
            "image/png": "[encoded data removed]",
            "text/plain": [
              "<Figure size 432x288 with 9 Axes>"
            ]
          },
          "metadata": {
            "tags": []
          }
        }
      ]
    },
    {
      "cell_type": "markdown",
      "metadata": {
        "id": "cITMS_biw1Lh",
        "colab_type": "text"
      },
      "source": [
        "# Classification Report\n",
        "\n",
        "Classification report will help us in identifying the misclassified classes in more detail. You will be able to observe for which class the model performed bad out of the given ten classes."
      ]
    },
    {
      "cell_type": "code",
      "metadata": {
        "id": "oGY535iPw1i-",
        "colab_type": "code",
        "outputId": "0f867280-4650-4285-a021-4782e8459b31",
        "colab": {
          "base_uri": "https://localhost:8080/",
          "height": 318
        }
      },
      "source": [
        "from sklearn.metrics import classification_report\n",
        "target_names = [\"Class {}\".format(i) for i in range(num_classes)]\n",
        "print(classification_report(test_Y, predicted_classes, target_names=target_names))"
      ],
      "execution_count": 0,
      "outputs": [
        {
          "output_type": "stream",
          "text": [
            "              precision    recall  f1-score   support\n",
            "\n",
            "     Class 0       0.77      0.92      0.84      1000\n",
            "     Class 1       0.99      0.98      0.99      1000\n",
            "     Class 2       0.91      0.84      0.88      1000\n",
            "     Class 3       0.93      0.91      0.92      1000\n",
            "     Class 4       0.86      0.90      0.88      1000\n",
            "     Class 5       0.99      0.98      0.99      1000\n",
            "     Class 6       0.82      0.72      0.76      1000\n",
            "     Class 7       0.95      0.98      0.97      1000\n",
            "     Class 8       0.99      0.98      0.99      1000\n",
            "     Class 9       0.98      0.96      0.97      1000\n",
            "\n",
            "    accuracy                           0.92     10000\n",
            "   macro avg       0.92      0.92      0.92     10000\n",
            "weighted avg       0.92      0.92      0.92     10000\n",
            "\n"
          ],
          "name": "stdout"
        }
      ]
    }
  ]
}