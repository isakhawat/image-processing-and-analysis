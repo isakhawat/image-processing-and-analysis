{
  "nbformat": 4,
  "nbformat_minor": 0,
  "metadata": {
    "colab": {
      "name": "CNN Basic.ipynb",
      "provenance": [],
      "toc_visible": true
    },
    "kernelspec": {
      "name": "python3",
      "display_name": "Python 3"
    }
  },
  "cells": [
    {
      "cell_type": "markdown",
      "metadata": {
        "id": "wBwqylJgbydG",
        "colab_type": "text"
      },
      "source": [
        ""
      ]
    },
    {
      "cell_type": "markdown",
      "metadata": {
        "id": "pel3s_txQrAA",
        "colab_type": "text"
      },
      "source": [
        "#What Is a Convolutional Neural Network?\n",
        "\n",
        "it uses two operations called ‘convolution’ and pooling’ to reduce an image into its essential features, and uses those features to understand and classify the image."
      ]
    },
    {
      "cell_type": "markdown",
      "metadata": {
        "id": "MVTu41CdQ6Po",
        "colab_type": "text"
      },
      "source": [
        "### The basic building blocks of CNN are:\n",
        "\n",
        "**Convolution layer**━ a “filter”, sometimes called a “kernel”, is passed over the image, viewing a few pixels at a time (for example, 3X3 or 5X5).\n",
        "\n",
        "**Activation layer** ━ the convolution layer generates a matrix that is much smaller in size than the original image. This matrix is run through an activation layer, which introduces non-linearity to allow the network to train itself via backpropagation. The **activation function is typically ReLu.**\n",
        "\n",
        "**Pooling layer** ━ “pooling” is the process of further downsampling and reducing the size of the matrix. \n",
        "\n",
        "**\"পুলিং\" ম্যাট্রিক্সের আকার আরও কমিয়ে নেওয়ার প্রক্রিয়া।**\n",
        "\n",
        "**Fully connected layer** ━ a traditional multilayer perceptron structure. Its input is a one-dimensional vector representing the output of the previous layers.\n",
        "\n"
      ]
    },
    {
      "cell_type": "markdown",
      "metadata": {
        "id": "PrauFQczSk00",
        "colab_type": "text"
      },
      "source": [
        "# Build a CNN in Keras in Only 11 Lines"
      ]
    },
    {
      "cell_type": "markdown",
      "metadata": {
        "id": "RStpSN0UTFuf",
        "colab_type": "text"
      },
      "source": [
        "### 1.Defining the model\n",
        "\n",
        "**Sequential() function :** It add layers on one by one.\n"
      ]
    },
    {
      "cell_type": "code",
      "metadata": {
        "id": "2qz4KPhnSp8U",
        "colab_type": "code",
        "colab": {}
      },
      "source": [
        "model = Sequential()"
      ],
      "execution_count": 0,
      "outputs": []
    },
    {
      "cell_type": "markdown",
      "metadata": {
        "id": "hGHhqkg3TvZU",
        "colab_type": "text"
      },
      "source": [
        "**Keras Conv2D function :** to create a 2-dimensional convolutional layer . with kernel size (filter) of 5X5 pixels and a stride of 1 in x and y directions. \n",
        "\n",
        "The Conv2D command automatically creates the activation function for you━here we use ReLu activation.\n",
        "\n"
      ]
    },
    {
      "cell_type": "code",
      "metadata": {
        "id": "1Sy3urEDSqOw",
        "colab_type": "code",
        "colab": {}
      },
      "source": [
        "model.add(Conv2D(32, kernel_size=(5, 5), strides=(1, 1),\n",
        "                 activation='relu',\n",
        "                 input_shape=input_shape))"
      ],
      "execution_count": 0,
      "outputs": []
    },
    {
      "cell_type": "markdown",
      "metadata": {
        "id": "f69RHbyUUpJg",
        "colab_type": "text"
      },
      "source": [
        "Then use the **MaxPooling2D function** to add a 2D max pooling layer, with pooling filter sized 2X2 and stride of 2 in x and y directions.\n"
      ]
    },
    {
      "cell_type": "code",
      "metadata": {
        "id": "JOHVgdHUSqX3",
        "colab_type": "code",
        "colab": {}
      },
      "source": [
        "model.add(MaxPooling2D(pool_size=(2, 2), strides=(2, 2)))"
      ],
      "execution_count": 0,
      "outputs": []
    },
    {
      "cell_type": "markdown",
      "metadata": {
        "id": "DOBWn0ZvUx-t",
        "colab_type": "text"
      },
      "source": [
        "Add **one more convolution and pooling layers** ━this time the convolution has 64 filters:\n"
      ]
    },
    {
      "cell_type": "code",
      "metadata": {
        "id": "eKuo9cyfSqe4",
        "colab_type": "code",
        "colab": {}
      },
      "source": [
        "model.add(Conv2D(64, (5, 5), activation='relu'))\n",
        "model.add(MaxPooling2D(pool_size=(2, 2)))"
      ],
      "execution_count": 0,
      "outputs": []
    },
    {
      "cell_type": "markdown",
      "metadata": {
        "id": "OQ2rPbdbU-5D",
        "colab_type": "text"
      },
      "source": [
        "**Finally**, flatten the output and define the** fully connected layers** that generate probabilities for the ten prediction labels (0.9, the possible values of every written digit):"
      ]
    },
    {
      "cell_type": "code",
      "metadata": {
        "id": "rTsTWvicU_M3",
        "colab_type": "code",
        "colab": {}
      },
      "source": [
        "model.add(Flatten())\n",
        "model.add(Dense(1000, activation='relu'))\n",
        "model.add(Dense(num_classes, activation='softmax'))"
      ],
      "execution_count": 0,
      "outputs": []
    },
    {
      "cell_type": "markdown",
      "metadata": {
        "id": "3KsVlM9rVZJQ",
        "colab_type": "text"
      },
      "source": [
        "\n",
        "###2.Compile and training the CNN\n",
        " **model.compile()** command. \n",
        " \n",
        "*** Select cross entropy \n",
        " \n",
        " *** loss function, \n",
        " \n",
        "*** Adam optimizer with learning rate 0.01, \n",
        " \n",
        "*** accuracy as your metric to evaluate performance."
      ]
    },
    {
      "cell_type": "code",
      "metadata": {
        "id": "JdSuKQy5VtSp",
        "colab_type": "code",
        "colab": {}
      },
      "source": [
        "\n",
        "model.compile(loss=keras.losses.categorical_crossentropy,\n",
        "              optimizer=keras.optimizers.SGD(lr=0.01),\n",
        "              metrics=['accuracy'])"
      ],
      "execution_count": 0,
      "outputs": []
    },
    {
      "cell_type": "markdown",
      "metadata": {
        "id": "hd-NTyFDVuG4",
        "colab_type": "text"
      },
      "source": [
        "Now train it using **model.fit()**, passing the training and testing dataset, and specifying your batch size and number of epochs for training.\n"
      ]
    },
    {
      "cell_type": "code",
      "metadata": {
        "id": "VZ38qKDgVudz",
        "colab_type": "code",
        "colab": {}
      },
      "source": [
        "model.fit(x_train, y_train,\n",
        "          batch_size=128,\n",
        "          epochs=10,\n",
        "          verbose=1,\n",
        "          validation_data=(x_test, y_test),\n",
        "          callbacks=[history])"
      ],
      "execution_count": 0,
      "outputs": []
    },
    {
      "cell_type": "markdown",
      "metadata": {
        "id": "lyjmWQbmWqg6",
        "colab_type": "text"
      },
      "source": [
        "###3.Evaluating performance\n",
        "The results look like this:\n",
        "\n",
        "3328/60000 [>.............................] - ETA: 87s - loss: 0.2180 - acc: 0.9336\n",
        "3456/60000 [>.............................] - ETA: 87s - loss: 0.2158 - acc: 0.9349\n",
        "...\n",
        "Use the evaluate() function to evaluate the performance of the model, using accuracy as we defined previously:\n",
        "\n"
      ]
    },
    {
      "cell_type": "code",
      "metadata": {
        "id": "JC_Fup4dWoUO",
        "colab_type": "code",
        "colab": {}
      },
      "source": [
        "score = model.evaluate(x_test, y_test, verbose=0)\n",
        "print('Test loss:', score[0])\n",
        "print('Test accuracy:', score[1])"
      ],
      "execution_count": 0,
      "outputs": []
    },
    {
      "cell_type": "markdown",
      "metadata": {
        "id": "-WW8PHtyXI5l",
        "colab_type": "text"
      },
      "source": [
        "#Advanced CNN in TensorFlow"
      ]
    },
    {
      "cell_type": "markdown",
      "metadata": {
        "id": "FpIfxDA1cRNj",
        "colab_type": "text"
      },
      "source": [
        "# CNN: How to Build One in Keras\n",
        "\n",
        "CNNs are **primarily used** for **computer vision**, powering tasks like **image classification**, **face recognition**, identifying and classifying everyday objects, and image processing in robots and autonomous vehicles. They are also used for **video analysis and classification**, **semantic parsing**, automatic caption generation, search query retrieval, **sentence classification**, and more."
      ]
    },
    {
      "cell_type": "markdown",
      "metadata": {
        "id": "1B9j9FVUcd3U",
        "colab_type": "text"
      },
      "source": [
        "**How CNNs Works**\n",
        "\n",
        "A CNN operates in three stages. The first is a convolution, in which the image is “scanned” a few pixels at a time, and a feature map is created with probabilities that each feature belongs to the required class (in a simple classification example). The second stage is pooling (also called downsampling), which reduces the dimensionality of each feature while maintaining its most important information. The pooling stage creates a “summary” of the most important features in the image.\n",
        "\n",
        "Most CNNs use “max pooling”, in which the highest value is taken from each pixel area scanned by the CNN, as illustrated below."
      ]
    },
    {
      "cell_type": "markdown",
      "metadata": {
        "id": "6aOgsSGlfoK2",
        "colab_type": "text"
      },
      "source": [
        "**1.Load the MNIST dataset**\n",
        "nd split into train and test sets, with X_train and X_test containing the training and testing images, and y_train and y_test containing the “ground truth” of the digits represented in the images. In the MNIST data set 60,000 images are used for training and 10,000 for testing/validation (learn more about neural network bias and variance in our neural network guide).\n"
      ]
    },
    {
      "cell_type": "code",
      "metadata": {
        "id": "qK4R5xzAfoe_",
        "colab_type": "code",
        "colab": {}
      },
      "source": [
        "# Load the MNIST dataset\n",
        "from keras.datasets import mnist\n"
      ],
      "execution_count": 0,
      "outputs": []
    },
    {
      "cell_type": "code",
      "metadata": {
        "id": "LBIdUER2gRcn",
        "colab_type": "code",
        "colab": {}
      },
      "source": [
        "# split into train set with X_train and y_train  \n",
        "# and test sets X_test  and y_test\n",
        "(X_train, y_train), (X_test, y_test) = mnist.load_data()"
      ],
      "execution_count": 0,
      "outputs": []
    },
    {
      "cell_type": "markdown",
      "metadata": {
        "id": "lJ_mbLzbg-oe",
        "colab_type": "text"
      },
      "source": [
        "**2. View** \n",
        "\n",
        "**plt.imshow:** view one of the images  \n",
        "\n",
        "**.shape function :** using the size\n",
        "\n",
        "understand what the dataset looks like. Try this on several images. As you will see, all the MNIST images are uniformly 28 x 28 pixels in size and contain handwritten digits."
      ]
    },
    {
      "cell_type": "code",
      "metadata": {
        "id": "Rgphy2Ahg_Ac",
        "colab_type": "code",
        "colab": {}
      },
      "source": [
        "import matplotlib.pyplot as plt\n",
        "plt.imshow(X_train[0])\n",
        "X_train[0].shape"
      ],
      "execution_count": 0,
      "outputs": []
    },
    {
      "cell_type": "markdown",
      "metadata": {
        "id": "Z24pK9h6iKnk",
        "colab_type": "text"
      },
      "source": [
        "**3. Reshape**\n",
        "\n",
        "**Two set of image:**, X_train and X_test, \n",
        "\n",
        "to the shape expected by the CNN model. The Keras reshape function takes **four arguments**: \n",
        "\n",
        "**number of training images:** 60000\n",
        "\n",
        " **pixel size :** 28*28\n",
        " \n",
        "** Image depth :** —use 1 to indicate a grayscale image.\n"
      ]
    },
    {
      "cell_type": "code",
      "metadata": {
        "id": "x5Ro5uuRiKzl",
        "colab_type": "code",
        "colab": {}
      },
      "source": [
        "\n",
        " \n",
        "\n",
        "X_train = X_train.reshape(60000,28,28,1)\n",
        "X_test = X_test.reshape(10000,28,28,1)"
      ],
      "execution_count": 0,
      "outputs": []
    }
  ]
}